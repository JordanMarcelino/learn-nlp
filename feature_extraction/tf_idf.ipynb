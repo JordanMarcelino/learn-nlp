{
 "cells": [
  {
   "cell_type": "markdown",
   "metadata": {
    "id": "eVrcHNZpQLUz"
   },
   "source": [
    "### **TF-IDF: Exercises**\n",
    "\n",
    "-   Humans 👦 show different emotions/feelings based on the situations and communicate them through facial expressions or in form of words.\n",
    "\n",
    "-   In Social Media like Twitter and Instagram, many people express their views through comments about a particular event/scenario and these comments may address the feelings like sadness, happiness, joy, sarcasm, fear, and many other.\n",
    "\n",
    "-   For a given comment/text, we are going to use classical NLP techniques and classify under which emotion that particular comment belongs!\n",
    "\n",
    "-   We are going to use techniques like Bag of grams, n-grams, TF-IDF, etc. for text representation and apply different classification algorithms.\n"
   ]
  },
  {
   "cell_type": "markdown",
   "metadata": {
    "id": "wU5KDovsV9ez"
   },
   "source": [
    "### **About Data: Emotion Detection**\n",
    "\n",
    "Credits: https://www.kaggle.com/datasets/praveengovi/emotions-dataset-for-nlp\n",
    "\n",
    "-   This data consists of two columns. - Comment - Emotion\n",
    "-   Comment are the statements or messages regarding to a particular event/situation.\n",
    "\n",
    "-   Emotion feature tells whether the given comment is fear 😨, Anger 😡, Joy 😂.\n",
    "\n",
    "-   As there are only 3 classes, this problem comes under the **Multi-Class Classification.**\n"
   ]
  },
  {
   "cell_type": "code",
   "execution_count": 6,
   "metadata": {
    "colab": {
     "base_uri": "https://localhost:8080/",
     "height": 224
    },
    "id": "8ML2s0KWVXmv",
    "outputId": "4284d452-b3f4-4998-a2bf-9fd7aa273207"
   },
   "outputs": [
    {
     "name": "stdout",
     "output_type": "stream",
     "text": [
      "(20000, 2)\n"
     ]
    },
    {
     "data": {
      "text/html": [
       "<div>\n",
       "<style scoped>\n",
       "    .dataframe tbody tr th:only-of-type {\n",
       "        vertical-align: middle;\n",
       "    }\n",
       "\n",
       "    .dataframe tbody tr th {\n",
       "        vertical-align: top;\n",
       "    }\n",
       "\n",
       "    .dataframe thead th {\n",
       "        text-align: right;\n",
       "    }\n",
       "</style>\n",
       "<table border=\"1\" class=\"dataframe\">\n",
       "  <thead>\n",
       "    <tr style=\"text-align: right;\">\n",
       "      <th></th>\n",
       "      <th>comment</th>\n",
       "      <th>emotion</th>\n",
       "    </tr>\n",
       "  </thead>\n",
       "  <tbody>\n",
       "    <tr>\n",
       "      <th>0</th>\n",
       "      <td>i didnt feel humiliated</td>\n",
       "      <td>sadness</td>\n",
       "    </tr>\n",
       "    <tr>\n",
       "      <th>1</th>\n",
       "      <td>i can go from feeling so hopeless to so damned...</td>\n",
       "      <td>sadness</td>\n",
       "    </tr>\n",
       "    <tr>\n",
       "      <th>2</th>\n",
       "      <td>im grabbing a minute to post i feel greedy wrong</td>\n",
       "      <td>anger</td>\n",
       "    </tr>\n",
       "    <tr>\n",
       "      <th>3</th>\n",
       "      <td>i am ever feeling nostalgic about the fireplac...</td>\n",
       "      <td>love</td>\n",
       "    </tr>\n",
       "    <tr>\n",
       "      <th>4</th>\n",
       "      <td>i am feeling grouchy</td>\n",
       "      <td>anger</td>\n",
       "    </tr>\n",
       "  </tbody>\n",
       "</table>\n",
       "</div>"
      ],
      "text/plain": [
       "                                             comment  emotion\n",
       "0                            i didnt feel humiliated  sadness\n",
       "1  i can go from feeling so hopeless to so damned...  sadness\n",
       "2   im grabbing a minute to post i feel greedy wrong    anger\n",
       "3  i am ever feeling nostalgic about the fireplac...     love\n",
       "4                               i am feeling grouchy    anger"
      ]
     },
     "execution_count": 6,
     "metadata": {},
     "output_type": "execute_result"
    }
   ],
   "source": [
    "# import pandas library\n",
    "import pandas as pd\n",
    "\n",
    "# read the dataset with name \"Emotion_classify_Data.csv\" and store it in a variable df\n",
    "train = pd.read_csv(\"emotion-detection/train.txt\", sep=\";\")\n",
    "val = pd.read_csv(\"emotion-detection/val.txt\", sep=\";\")\n",
    "test = pd.read_csv(\"emotion-detection/test.txt\", sep=\";\")\n",
    "df = pd.concat([train, val, test], axis=0)\n",
    "\n",
    "# print the shape of dataframe\n",
    "print(df.shape)\n",
    "\n",
    "# print top 5 rows\n",
    "df.head()"
   ]
  },
  {
   "cell_type": "code",
   "execution_count": 7,
   "metadata": {
    "colab": {
     "base_uri": "https://localhost:8080/"
    },
    "id": "joLuZmFpT-fY",
    "outputId": "77d48614-f6b3-4227-e90e-dc8ddb17381b"
   },
   "outputs": [
    {
     "data": {
      "text/plain": [
       "emotion\n",
       "joy         6761\n",
       "sadness     5797\n",
       "anger       2709\n",
       "fear        2373\n",
       "love        1641\n",
       "surprise     719\n",
       "Name: count, dtype: int64"
      ]
     },
     "execution_count": 7,
     "metadata": {},
     "output_type": "execute_result"
    }
   ],
   "source": [
    "# check the distribution of Emotion\n",
    "df[\"emotion\"].value_counts()"
   ]
  },
  {
   "cell_type": "code",
   "execution_count": 8,
   "metadata": {
    "colab": {
     "base_uri": "https://localhost:8080/",
     "height": 206
    },
    "id": "qPxiqT_TT-hx",
    "outputId": "d58985b6-c81c-48b5-de9b-74735bb6b133"
   },
   "outputs": [
    {
     "data": {
      "text/html": [
       "<div>\n",
       "<style scoped>\n",
       "    .dataframe tbody tr th:only-of-type {\n",
       "        vertical-align: middle;\n",
       "    }\n",
       "\n",
       "    .dataframe tbody tr th {\n",
       "        vertical-align: top;\n",
       "    }\n",
       "\n",
       "    .dataframe thead th {\n",
       "        text-align: right;\n",
       "    }\n",
       "</style>\n",
       "<table border=\"1\" class=\"dataframe\">\n",
       "  <thead>\n",
       "    <tr style=\"text-align: right;\">\n",
       "      <th></th>\n",
       "      <th>comment</th>\n",
       "      <th>emotion</th>\n",
       "      <th>emotion_num</th>\n",
       "    </tr>\n",
       "  </thead>\n",
       "  <tbody>\n",
       "    <tr>\n",
       "      <th>0</th>\n",
       "      <td>i didnt feel humiliated</td>\n",
       "      <td>sadness</td>\n",
       "      <td>1</td>\n",
       "    </tr>\n",
       "    <tr>\n",
       "      <th>1</th>\n",
       "      <td>i can go from feeling so hopeless to so damned...</td>\n",
       "      <td>sadness</td>\n",
       "      <td>1</td>\n",
       "    </tr>\n",
       "    <tr>\n",
       "      <th>2</th>\n",
       "      <td>im grabbing a minute to post i feel greedy wrong</td>\n",
       "      <td>anger</td>\n",
       "      <td>2</td>\n",
       "    </tr>\n",
       "    <tr>\n",
       "      <th>3</th>\n",
       "      <td>i am ever feeling nostalgic about the fireplac...</td>\n",
       "      <td>love</td>\n",
       "      <td>4</td>\n",
       "    </tr>\n",
       "    <tr>\n",
       "      <th>4</th>\n",
       "      <td>i am feeling grouchy</td>\n",
       "      <td>anger</td>\n",
       "      <td>2</td>\n",
       "    </tr>\n",
       "  </tbody>\n",
       "</table>\n",
       "</div>"
      ],
      "text/plain": [
       "                                             comment  emotion  emotion_num\n",
       "0                            i didnt feel humiliated  sadness            1\n",
       "1  i can go from feeling so hopeless to so damned...  sadness            1\n",
       "2   im grabbing a minute to post i feel greedy wrong    anger            2\n",
       "3  i am ever feeling nostalgic about the fireplac...     love            4\n",
       "4                               i am feeling grouchy    anger            2"
      ]
     },
     "execution_count": 8,
     "metadata": {},
     "output_type": "execute_result"
    }
   ],
   "source": [
    "# Add the new column \"Emotion_num\" which gives a unique number to each of these Emotions\n",
    "# joy --> 0, fear --> 1, anger --> 2\n",
    "df.loc[:, \"emotion_num\"] = df[\"emotion\"].map(\n",
    "    {\n",
    "        \"joy\": 0,\n",
    "        \"sadness\": 1,\n",
    "        \"anger\": 2,\n",
    "        \"fear\": 3,\n",
    "        \"love\": 4,\n",
    "        \"surprise\": 5,\n",
    "    }\n",
    ")\n",
    "\n",
    "# checking the results by printing top 5 rows\n",
    "df.head()"
   ]
  },
  {
   "cell_type": "markdown",
   "metadata": {
    "id": "PE-c0zbDXTEm"
   },
   "source": [
    "### **Modelling without Pre-processing Text data**\n"
   ]
  },
  {
   "cell_type": "code",
   "execution_count": 9,
   "metadata": {
    "id": "NjJqi7UBT-nr"
   },
   "outputs": [],
   "source": [
    "# import train-test split\n",
    "from sklearn.model_selection import train_test_split\n",
    "\n",
    "# Do the 'train-test' splitting with test size of 20%\n",
    "# Note: Give Random state 2022 and also do the stratify sampling\n",
    "X_train, X_test, y_train, y_test = train_test_split(\n",
    "    df[\"comment\"], df[\"emotion_num\"], random_state=2022, stratify=df[\"emotion_num\"]\n",
    ")"
   ]
  },
  {
   "cell_type": "code",
   "execution_count": 11,
   "metadata": {
    "colab": {
     "base_uri": "https://localhost:8080/"
    },
    "id": "5lAD0iqGcdCn",
    "outputId": "4efb3c3c-0ad4-4501-d815-35a902095848"
   },
   "outputs": [
    {
     "data": {
      "text/plain": [
       "((15000,), (5000,))"
      ]
     },
     "execution_count": 11,
     "metadata": {},
     "output_type": "execute_result"
    }
   ],
   "source": [
    "# print the shapes of X_train and X_test\n",
    "X_train.shape, X_test.shape"
   ]
  },
  {
   "cell_type": "markdown",
   "metadata": {
    "id": "u6h8ZZLxZd79"
   },
   "source": [
    "**Attempt 1** :\n",
    "\n",
    "1. using the sklearn pipeline module create a classification pipeline to classify the Data.\n",
    "\n",
    "**Note:**\n",
    "\n",
    "-   using CountVectorizer with only trigrams.\n",
    "-   use **RandomForest** as the classifier.\n",
    "-   print the classification report.\n"
   ]
  },
  {
   "cell_type": "code",
   "execution_count": 12,
   "metadata": {
    "colab": {
     "base_uri": "https://localhost:8080/"
    },
    "id": "vGg2iXv6g40l",
    "outputId": "3f895ca5-7606-4220-b9a2-7c26d9160a9b"
   },
   "outputs": [
    {
     "name": "stdout",
     "output_type": "stream",
     "text": [
      "              precision    recall  f1-score   support\n",
      "\n",
      "           0       0.49      0.63      0.55      1690\n",
      "           1       0.55      0.35      0.42      1449\n",
      "           2       0.44      0.28      0.34       678\n",
      "           3       0.21      0.47      0.29       593\n",
      "           4       0.59      0.11      0.19       410\n",
      "           5       0.75      0.10      0.18       180\n",
      "\n",
      "    accuracy                           0.42      5000\n",
      "   macro avg       0.50      0.32      0.33      5000\n",
      "weighted avg       0.48      0.42      0.41      5000\n",
      "\n"
     ]
    }
   ],
   "source": [
    "# import CountVectorizer, RandomForest, pipeline, classification_report from sklearn\n",
    "from sklearn.feature_extraction.text import CountVectorizer, TfidfVectorizer\n",
    "from sklearn.pipeline import Pipeline\n",
    "from sklearn.metrics import classification_report\n",
    "from sklearn.ensemble import RandomForestClassifier\n",
    "from sklearn.neighbors import KNeighborsClassifier\n",
    "from sklearn.naive_bayes import MultinomialNB\n",
    "\n",
    "# 1. create a pipeline object\n",
    "pipeline = Pipeline(\n",
    "    [\n",
    "        (\"n_gram\", CountVectorizer(ngram_range=(3, 3))),\n",
    "        (\"classifier\", RandomForestClassifier()),\n",
    "    ]\n",
    ")\n",
    "\n",
    "# 2. fit with X_train and y_train\n",
    "pipeline.fit(X_train, y_train)\n",
    "\n",
    "# 3. get the predictions for X_test and store it in y_pred\n",
    "y_pred = pipeline.predict(X_test)\n",
    "\n",
    "# 4. print the classfication report\n",
    "print(classification_report(y_test, y_pred))"
   ]
  },
  {
   "cell_type": "markdown",
   "metadata": {
    "id": "I08-kc_JYCNL"
   },
   "source": [
    "**Attempt 2** :\n",
    "\n",
    "1. using the sklearn pipeline module create a classification pipeline to classify the Data.\n",
    "\n",
    "**Note:**\n",
    "\n",
    "-   using CountVectorizer with both unigram and bigrams.\n",
    "-   use **Multinomial Naive Bayes** as the classifier.\n",
    "-   print the classification report.\n"
   ]
  },
  {
   "cell_type": "code",
   "execution_count": 13,
   "metadata": {
    "colab": {
     "base_uri": "https://localhost:8080/"
    },
    "id": "8zetSmBrXmjM",
    "outputId": "b372f53c-8cbc-496f-ef4d-9fecff044230"
   },
   "outputs": [
    {
     "name": "stdout",
     "output_type": "stream",
     "text": [
      "              precision    recall  f1-score   support\n",
      "\n",
      "           0       0.62      0.97      0.76      1690\n",
      "           1       0.69      0.89      0.78      1449\n",
      "           2       0.93      0.33      0.49       678\n",
      "           3       0.88      0.26      0.40       593\n",
      "           4       0.94      0.07      0.14       410\n",
      "           5       1.00      0.03      0.06       180\n",
      "\n",
      "    accuracy                           0.67      5000\n",
      "   macro avg       0.84      0.43      0.44      5000\n",
      "weighted avg       0.75      0.67      0.61      5000\n",
      "\n"
     ]
    }
   ],
   "source": [
    "# 1. create a pipeline object\n",
    "pipeline = Pipeline(\n",
    "    [\n",
    "        (\"n_gram\", CountVectorizer(ngram_range=(1, 2))),\n",
    "        (\"classifier\", MultinomialNB()),\n",
    "    ]\n",
    ")\n",
    "\n",
    "# 2. fit with X_train and y_train\n",
    "pipeline.fit(X_train, y_train)\n",
    "\n",
    "# 3. get the predictions for X_test and store it in y_pred\n",
    "y_pred = pipeline.predict(X_test)\n",
    "\n",
    "# 4. print the classfication report\n",
    "print(classification_report(y_test, y_pred))\n"
   ]
  },
  {
   "cell_type": "markdown",
   "metadata": {
    "id": "8Wde4r_-YwU-"
   },
   "source": [
    "**Attempt 3** :\n",
    "\n",
    "1. using the sklearn pipeline module create a classification pipeline to classify the Data.\n",
    "\n",
    "**Note:**\n",
    "\n",
    "-   using CountVectorizer with both unigram and Bigrams.\n",
    "-   use **RandomForest** as the classifier.\n",
    "-   print the classification report.\n"
   ]
  },
  {
   "cell_type": "code",
   "execution_count": 14,
   "metadata": {
    "colab": {
     "base_uri": "https://localhost:8080/"
    },
    "id": "n0dG2tc0X7SK",
    "outputId": "f6eddad9-a55b-4fde-eea2-2cbc002f6d4e"
   },
   "outputs": [
    {
     "name": "stdout",
     "output_type": "stream",
     "text": [
      "              precision    recall  f1-score   support\n",
      "\n",
      "           0       0.82      0.96      0.88      1690\n",
      "           1       0.91      0.90      0.90      1449\n",
      "           2       0.89      0.82      0.85       678\n",
      "           3       0.87      0.76      0.81       593\n",
      "           4       0.90      0.64      0.75       410\n",
      "           5       0.84      0.68      0.75       180\n",
      "\n",
      "    accuracy                           0.86      5000\n",
      "   macro avg       0.87      0.79      0.82      5000\n",
      "weighted avg       0.87      0.86      0.86      5000\n",
      "\n"
     ]
    }
   ],
   "source": [
    "# 1. create a pipeline object\n",
    "pipeline = Pipeline(\n",
    "    [\n",
    "        (\"n_gram\", CountVectorizer(ngram_range=(1, 2))),\n",
    "        (\"classifier\", RandomForestClassifier()),\n",
    "    ]\n",
    ")\n",
    "\n",
    "# 2. fit with X_train and y_train\n",
    "pipeline.fit(X_train, y_train)\n",
    "\n",
    "# 3. get the predictions for X_test and store it in y_pred\n",
    "y_pred = pipeline.predict(X_test)\n",
    "\n",
    "# 4. print the classfication report\n",
    "print(classification_report(y_test, y_pred))\n"
   ]
  },
  {
   "cell_type": "markdown",
   "metadata": {
    "id": "hmrXmL_3Z2y6"
   },
   "source": [
    "**Attempt 4** :\n",
    "\n",
    "1. using the sklearn pipeline module create a classification pipeline to classify the Data.\n",
    "\n",
    "**Note:**\n",
    "\n",
    "-   using **TF-IDF vectorizer** for Pre-processing the text.\n",
    "-   use **RandomForest** as the classifier.\n",
    "-   print the classification report.\n"
   ]
  },
  {
   "cell_type": "code",
   "execution_count": 15,
   "metadata": {
    "colab": {
     "base_uri": "https://localhost:8080/"
    },
    "id": "djsDsThaaCSO",
    "outputId": "b4514ab2-f6ad-45e1-b91b-e88393e975e5"
   },
   "outputs": [
    {
     "name": "stdout",
     "output_type": "stream",
     "text": [
      "              precision    recall  f1-score   support\n",
      "\n",
      "           0       0.83      0.94      0.88      1690\n",
      "           1       0.91      0.90      0.90      1449\n",
      "           2       0.89      0.83      0.86       678\n",
      "           3       0.83      0.81      0.82       593\n",
      "           4       0.85      0.65      0.74       410\n",
      "           5       0.83      0.69      0.75       180\n",
      "\n",
      "    accuracy                           0.86      5000\n",
      "   macro avg       0.86      0.80      0.83      5000\n",
      "weighted avg       0.86      0.86      0.86      5000\n",
      "\n"
     ]
    }
   ],
   "source": [
    "# 1. create a pipeline object\n",
    "pipeline = Pipeline(\n",
    "    [\n",
    "        (\"n_gram\", TfidfVectorizer()),\n",
    "        (\"classifier\", RandomForestClassifier()),\n",
    "    ]\n",
    ")\n",
    "\n",
    "# 2. fit with X_train and y_train\n",
    "pipeline.fit(X_train, y_train)\n",
    "\n",
    "# 3. get the predictions for X_test and store it in y_pred\n",
    "y_pred = pipeline.predict(X_test)\n",
    "\n",
    "# 4. print the classfication report\n",
    "print(classification_report(y_test, y_pred))\n"
   ]
  },
  {
   "cell_type": "markdown",
   "metadata": {
    "id": "-ACq6pDkZ4sA"
   },
   "source": [
    "<h3>Use text pre-processing to remove stop words, punctuations and apply lemmatization </h3>\n"
   ]
  },
  {
   "cell_type": "code",
   "execution_count": 16,
   "metadata": {
    "id": "tj_xYgthX7UF"
   },
   "outputs": [],
   "source": [
    "import spacy\n",
    "\n",
    "# load english language model and create nlp object from it\n",
    "nlp = spacy.load(\"en_core_web_sm\")\n",
    "\n",
    "\n",
    "# use this utility function to get the preprocessed text data\n",
    "def preprocess(text):\n",
    "    # remove stop words and lemmatize the text\n",
    "    doc = nlp(text)\n",
    "    filtered_tokens = []\n",
    "    for token in doc:\n",
    "        if token.is_stop or token.is_punct:\n",
    "            continue\n",
    "        filtered_tokens.append(token.lemma_)\n",
    "\n",
    "    return \" \".join(filtered_tokens)"
   ]
  },
  {
   "cell_type": "code",
   "execution_count": 17,
   "metadata": {
    "id": "xqW1i19wX7Xq"
   },
   "outputs": [],
   "source": [
    "# create a new column \"preprocessed_comment\" and use the utility function above to get the clean data\n",
    "# this will take some time, please be patient\n",
    "df.loc[:, \"preprocessed_comment\"] = df[\"comment\"].apply(preprocess)"
   ]
  },
  {
   "cell_type": "markdown",
   "metadata": {
    "id": "q24oRlMcai9l"
   },
   "source": [
    "**Build a model with pre processed text**\n"
   ]
  },
  {
   "cell_type": "code",
   "execution_count": 19,
   "metadata": {
    "id": "ahdd2mgxX7dM"
   },
   "outputs": [],
   "source": [
    "# Do the 'train-test' splitting with test size of 20% with random state of 2022 and stratify sampling too\n",
    "# Note: Use the preprocessed_Comment\n",
    "X_train, X_test, y_train, y_test = train_test_split(\n",
    "    df[\"preprocessed_comment\"],\n",
    "    df[\"emotion_num\"],\n",
    "    random_state=2022,\n",
    "    stratify=df[\"emotion_num\"],\n",
    ")"
   ]
  },
  {
   "cell_type": "markdown",
   "metadata": {
    "id": "kqonfpeYasOE"
   },
   "source": [
    "**Let's check the scores with our best model till now**\n",
    "\n",
    "-   Random Forest\n"
   ]
  },
  {
   "cell_type": "markdown",
   "metadata": {
    "id": "u1wYgFs3auLQ"
   },
   "source": [
    "**Attempt1** :\n",
    "\n",
    "1. using the sklearn pipeline module create a classification pipeline to classify the Data.\n",
    "\n",
    "**Note:**\n",
    "\n",
    "-   using CountVectorizer with both unigrams and bigrams.\n",
    "-   use **RandomForest** as the classifier.\n",
    "-   print the classification report.\n"
   ]
  },
  {
   "cell_type": "code",
   "execution_count": 20,
   "metadata": {
    "colab": {
     "base_uri": "https://localhost:8080/"
    },
    "id": "Khtu32z1XmmE",
    "outputId": "b5f67051-d0e3-4e2e-e342-8297938090ce"
   },
   "outputs": [
    {
     "name": "stdout",
     "output_type": "stream",
     "text": [
      "              precision    recall  f1-score   support\n",
      "\n",
      "           0       0.90      0.90      0.90      1690\n",
      "           1       0.89      0.94      0.91      1449\n",
      "           2       0.87      0.89      0.88       678\n",
      "           3       0.89      0.82      0.85       593\n",
      "           4       0.78      0.73      0.75       410\n",
      "           5       0.85      0.71      0.78       180\n",
      "\n",
      "    accuracy                           0.88      5000\n",
      "   macro avg       0.86      0.83      0.85      5000\n",
      "weighted avg       0.88      0.88      0.88      5000\n",
      "\n"
     ]
    }
   ],
   "source": [
    "# 1. create a pipeline object\n",
    "pipeline = Pipeline(\n",
    "    [\n",
    "        (\"n_gram\", CountVectorizer(ngram_range=(1, 2))),\n",
    "        (\"classifier\", RandomForestClassifier()),\n",
    "    ]\n",
    ")\n",
    "\n",
    "# 2. fit with X_train and y_train\n",
    "pipeline.fit(X_train, y_train)\n",
    "\n",
    "# 3. get the predictions for X_test and store it in y_pred\n",
    "y_pred = pipeline.predict(X_test)\n",
    "\n",
    "# 4. print the classfication report\n",
    "print(classification_report(y_test, y_pred))\n"
   ]
  },
  {
   "cell_type": "markdown",
   "metadata": {
    "id": "U9GZPaQbbJbx"
   },
   "source": [
    "**Attempt 2** :\n",
    "\n",
    "1. using the sklearn pipeline module create a classification pipeline to classify the data.\n",
    "\n",
    "**Note:**\n",
    "\n",
    "-   using **TF-IDF vectorizer** for pre-processing the text.\n",
    "-   use **RandomForest** as the classifier.\n",
    "-   print the classification report.\n"
   ]
  },
  {
   "cell_type": "code",
   "execution_count": 21,
   "metadata": {
    "colab": {
     "base_uri": "https://localhost:8080/"
    },
    "id": "f2y1Cy4Bauxu",
    "outputId": "ac6bf255-a218-400c-c4a9-790f4a89dfb1"
   },
   "outputs": [
    {
     "name": "stdout",
     "output_type": "stream",
     "text": [
      "              precision    recall  f1-score   support\n",
      "\n",
      "           0       0.84      0.92      0.88      1690\n",
      "           1       0.91      0.87      0.89      1449\n",
      "           2       0.85      0.85      0.85       678\n",
      "           3       0.82      0.82      0.82       593\n",
      "           4       0.82      0.64      0.72       410\n",
      "           5       0.82      0.71      0.76       180\n",
      "\n",
      "    accuracy                           0.85      5000\n",
      "   macro avg       0.84      0.80      0.82      5000\n",
      "weighted avg       0.86      0.85      0.85      5000\n",
      "\n"
     ]
    }
   ],
   "source": [
    "# 1. create a pipeline object\n",
    "pipeline = Pipeline(\n",
    "    [\n",
    "        (\"n_gram\", TfidfVectorizer()),\n",
    "        (\"classifier\", RandomForestClassifier()),\n",
    "    ]\n",
    ")\n",
    "\n",
    "# 2. fit with X_train and y_train\n",
    "pipeline.fit(X_train, y_train)\n",
    "\n",
    "# 3. get the predictions for X_test and store it in y_pred\n",
    "y_pred = pipeline.predict(X_test)\n",
    "\n",
    "# 4. print the classfication report\n",
    "print(classification_report(y_test, y_pred))\n"
   ]
  },
  {
   "cell_type": "code",
   "execution_count": 22,
   "metadata": {},
   "outputs": [
    {
     "name": "stdout",
     "output_type": "stream",
     "text": [
      "              precision    recall  f1-score   support\n",
      "\n",
      "           0       0.64      0.98      0.77      1690\n",
      "           1       0.71      0.92      0.80      1449\n",
      "           2       0.95      0.41      0.57       678\n",
      "           3       0.89      0.28      0.43       593\n",
      "           4       0.97      0.09      0.16       410\n",
      "           5       1.00      0.03      0.05       180\n",
      "\n",
      "    accuracy                           0.69      5000\n",
      "   macro avg       0.86      0.45      0.46      5000\n",
      "weighted avg       0.77      0.69      0.64      5000\n",
      "\n"
     ]
    }
   ],
   "source": [
    "# 1. create a pipeline object\n",
    "pipeline = Pipeline(\n",
    "    [\n",
    "        (\"n_gram\", TfidfVectorizer()),\n",
    "        (\"classifier\", MultinomialNB()),\n",
    "    ]\n",
    ")\n",
    "\n",
    "# 2. fit with X_train and y_train\n",
    "pipeline.fit(X_train, y_train)\n",
    "\n",
    "# 3. get the predictions for X_test and store it in y_pred\n",
    "y_pred = pipeline.predict(X_test)\n",
    "\n",
    "# 4. print the classfication report\n",
    "print(classification_report(y_test, y_pred))\n"
   ]
  },
  {
   "cell_type": "code",
   "execution_count": null,
   "metadata": {},
   "outputs": [],
   "source": []
  }
 ],
 "metadata": {
  "colab": {
   "collapsed_sections": [],
   "name": "tf_idf_exercise.ipynb",
   "provenance": []
  },
  "kernelspec": {
   "display_name": "Python 3 (ipykernel)",
   "language": "python",
   "name": "python3"
  },
  "language_info": {
   "codemirror_mode": {
    "name": "ipython",
    "version": 3
   },
   "file_extension": ".py",
   "mimetype": "text/x-python",
   "name": "python",
   "nbconvert_exporter": "python",
   "pygments_lexer": "ipython3",
   "version": "3.9.0"
  }
 },
 "nbformat": 4,
 "nbformat_minor": 1
}
